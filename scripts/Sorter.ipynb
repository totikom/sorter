{
 "cells": [
  {
   "cell_type": "code",
   "execution_count": 1,
   "id": "failing-green",
   "metadata": {},
   "outputs": [],
   "source": [
    "import adi\n",
    "import numpy as np\n",
    "import matplotlib.pyplot as plt\n",
    "import pandas as pd\n",
    "import scipy.fft as fft\n",
    "import scipy.signal as sig\n",
    "from scipy.signal import hann\n",
    "from pandas import read_csv, DataFrame\n",
    "import matplotlib as mpl\n",
    "import functools\n",
    "from timeit import default_timer as timer\n",
    "%matplotlib inline"
   ]
  },
  {
   "cell_type": "code",
   "execution_count": 2,
   "id": "d8f2c3bc-d399-4521-884d-64cf8b2b4d09",
   "metadata": {},
   "outputs": [],
   "source": [
    "golden_ratio = (np.sqrt(5) - 1) / 2\n",
    "width = 6.9\n",
    "height = width * golden_ratio"
   ]
  },
  {
   "cell_type": "code",
   "execution_count": 3,
   "id": "animated-bouquet",
   "metadata": {},
   "outputs": [],
   "source": [
    "# Real\n",
    "lattice_center = 5 # in length domain, micrometers\n",
    "lattice_center_freq = 5e6 # Hz\n",
    "lattice_step = 5 # micrometers\n",
    "alpha = 0.2e6\n",
    "\n",
    "signal_amplitude = 2**14\n",
    "laser_switching_time = 50e-6\n",
    "laser_switching_speed = signal_amplitude / laser_switching_time\n",
    "atom_speed = 0.0175e12 # in frequency domain, Hz/s\n",
    "\n",
    "sample_rate = int(16e6)\n",
    "buff_size = int(2**13)\n",
    "lo = int(99e6)\n",
    "\n",
    "# # Testing\n",
    "# lattice_center = 5 # in length domain, micrometers\n",
    "# lattice_center_freq = 5e6 # Hz\n",
    "# lattice_step = 5 # micrometers\n",
    "# alpha = 0.2e6\n",
    "\n",
    "# signal_amplitude = 2**14\n",
    "# laser_switching_time = 50e-4\n",
    "# laser_switching_speed = signal_amplitude / laser_switching_time\n",
    "# atom_speed = 0.0175e10 # in frequency domain, Hz/s\n",
    "\n",
    "# sample_rate = int(16e6)\n",
    "# buff_size = int(2**19)\n",
    "# lo = int(99e6)\n",
    "\n",
    "\n",
    "# lattice_center_x = 5 # in length domain, micrometers\n",
    "# lattice_center_y = 5 # in length domain, micrometers\n",
    "# lattice_center_freq_x = 5 # Hz\n",
    "# lattice_center_freq_y = 5 # Hz\n",
    "# lattice_step = 5 # micrometers\n",
    "# alpha_x = 1\n",
    "# alpha_y = 1\n",
    "\n",
    "# signal_amplitude = 1\n",
    "# laser_switching_time = 1\n",
    "# laser_switching_speed = signal_amplitude / laser_switching_time\n",
    "# atom_speed = 1 # in frequency domain, Hz/s"
   ]
  },
  {
   "cell_type": "code",
   "execution_count": 4,
   "id": "66be2ea4-4493-4b7e-8899-b2d6a3169467",
   "metadata": {},
   "outputs": [],
   "source": [
    "# def coord_to_freq(i, direction): # direction = True for X\n",
    "#     # см. #вычисление угла на стр. 1\n",
    "#     if direction:\n",
    "#         return lattice_center_freq_x + alpha_x * (i * lattice_step - lattice_center_x)\n",
    "#     else:\n",
    "#         return lattice_center_freq_y + alpha_y * (i * lattice_step - lattice_center_y)\n",
    "    \n",
    "def coord_to_freq(i, direction): # direction = True for X\n",
    "    # см. #вычисление угла на стр. 1\n",
    "    x_freqs = np.array([int(101.6e6), int(100.7e6),  int(99.7e6),  int(98.8e6),  int(97.9e6)]) - lo\n",
    "    y_freqs = np.array([ int(97.3e6),  int(98.1e6),  int(99.1e6),  int(100.1e6), int(100.9e6)]) - lo\n",
    "    if direction:\n",
    "        return x_freqs[i]\n",
    "    else:\n",
    "        return y_freqs[i]\n",
    "\n",
    "# def coord_to_freq(i, direction): # direction = True for X\n",
    "#     # см. #вычисление угла на стр. 1\n",
    "#     x_freqs = np.array([int(101.6e6), int(100.7e6),  int(99.7e6),  int(98.8e6),  int(97.9e6)])\n",
    "#     y_freqs = np.array([ int(97.3e6),  int(98.1e6),  int(99.1e6),  int(100.1e6), int(100.9e6)])\n",
    "#     if direction:\n",
    "#         return x_freqs[i]\n",
    "#     else:\n",
    "#         return y_freqs[i]"
   ]
  },
  {
   "cell_type": "code",
   "execution_count": 5,
   "id": "e8b2bd42-93ee-4a51-adae-039c0f492317",
   "metadata": {},
   "outputs": [],
   "source": [
    "def atom_signal(start_freq, end_freq):\n",
    "    def harmonic(t):\n",
    "        freq_sign = 1 if end_freq > start_freq else -1\n",
    "    #     print(laser_switching_time + freq_sign * (end_freq - start_freq)  / atom_speed)\n",
    "        if t < laser_switching_time:\n",
    "    #         print(\"turn on\")\n",
    "            return laser_switching_speed * t * np.exp(2j*np.pi * start_freq * t)\n",
    "        elif t < laser_switching_time + freq_sign * (end_freq - start_freq)  / atom_speed:\n",
    "            local_t = t - laser_switching_time\n",
    "    #         print(\"move\", start_freq + freq_sign * atom_speed * local_t)\n",
    "            return signal_amplitude * np.exp(2j*np.pi *(start_freq + freq_sign * atom_speed * local_t) * t)\n",
    "        elif t < laser_switching_time * 2 + freq_sign * (end_freq - start_freq)  / atom_speed:\n",
    "            local_t = t - laser_switching_time - freq_sign * (end_freq - start_freq)  / atom_speed\n",
    "    #         print(\"turn off\", local_t)\n",
    "            return (signal_amplitude - laser_switching_speed * local_t) * np.exp(2j*np.pi * end_freq * t)\n",
    "        else:\n",
    "    #         print(\"off\")\n",
    "            return 0\n",
    "    return harmonic\n",
    "\n",
    "def transition_time(start_freq, end_freq):\n",
    "    return laser_switching_time * 2 + abs(end_freq - start_freq)  / atom_speed\n",
    "\n",
    "def generate_main_signal(direction, input_array, output_array):\n",
    "    # Эта переменная нужна для вычисления времени, которое необходимо для движения\n",
    "    transition_time_max = 0\n",
    "    \n",
    "    # Формирование движений из списков атомов\n",
    "    frequencies = []\n",
    "    i = 0\n",
    "    j = 0\n",
    "    while i < len(input_array) and j < len(output_array):\n",
    "        if input_array[i] == 1:\n",
    "            if output_array[j] == 1:\n",
    "                start_freq = coord_to_freq(i, direction)\n",
    "                end_freq = coord_to_freq(j, direction)\n",
    "                frequencies.append((start_freq, end_freq))\n",
    "                i = i + 1\n",
    "                j = j + 1\n",
    "\n",
    "                time = transition_time(start_freq, end_freq)\n",
    "                if transition_time_max > time:\n",
    "                    transition_time_max = time\n",
    "            else:\n",
    "                j = j + 1\n",
    "        else:\n",
    "            i = i + 1\n",
    "\n",
    "    signals = []\n",
    "    for start_freq, end_freq in frequencies:\n",
    "        # print(\"start & end freqs\", start_freq, end_freq)\n",
    "        # print(\"transition time\", tansition_time(start_freq, end_freq)*1e6, \"us\")\n",
    "        signals.append(atom_signal(start_freq, end_freq))\n",
    "#     return np.vectorize(lambda t: functools.reduce(lambda acc, harmonic: acc + harmonic(t), signals,0) / len(signals))\n",
    "    return np.vectorize(lambda t: functools.reduce(lambda acc, harmonic: acc + harmonic(t), signals,0))\n",
    "\n",
    "def generate_static_signal(coord, direction):\n",
    "    freq = coord_to_freq(coord, direction)\n",
    "    def harmonic(t):\n",
    "            return signal_amplitude * np.exp(2j*np.pi * freq * t)\n",
    "    return np.vectorize(lambda t: harmonic(t))\n",
    "\n",
    "def generate_signal_bundle(direction, coord, input_array, output_array):\n",
    "    if direction:\n",
    "        x_signal = generate_main_signal(direction, input_array, output_array)\n",
    "        y_signal = generate_static_signal(coord, not direction)\n",
    "    else:\n",
    "        y_signal = generate_main_signal(direction, input_array, output_array)\n",
    "        x_signal = generate_static_signal(coord, not direction)\n",
    "    return (x_signal, y_signal)\n",
    "\n",
    "def send_signal_to_sdr(sdr, x_signal, y_signal):\n",
    "    N = sdr.tx_buffer_size\n",
    "    sample_rate = sdr.sample_rate\n",
    "    times = np.linspace(0, N / sample_rate, N)\n",
    "    x_dots = x_signal(times)\n",
    "    y_dots = y_signal(times)\n",
    "    sdr.tx_destroy_buffer()\n",
    "    sdr.tx([x_dots, y_dots])\n",
    "\n",
    "def picture_signal(start_freq, end_freq, time):\n",
    "    def harmonic(t):\n",
    "        freq_sign = 1 if end_freq > start_freq else -1\n",
    "    #     print(laser_switching_time + freq_sign * (end_freq - start_freq)  / atom_speed)\n",
    "        if time < laser_switching_time:\n",
    "    #         print(\"turn on\")\n",
    "            return laser_switching_speed * time * np.exp(2j*np.pi * start_freq * t)\n",
    "        elif time < laser_switching_time + freq_sign * (end_freq - start_freq)  / atom_speed:\n",
    "            local_t = time - laser_switching_time\n",
    "    #         print(\"move\", start_freq + freq_sign * atom_speed * local_t)\n",
    "            return signal_amplitude * np.exp(2j*np.pi *(start_freq + freq_sign * atom_speed * local_t) * t)\n",
    "        elif time < laser_switching_time * 2 + freq_sign * (end_freq - start_freq)  / atom_speed:\n",
    "            local_t = time - laser_switching_time - freq_sign * (end_freq - start_freq)  / atom_speed\n",
    "    #         print(\"turn off\", local_t)\n",
    "            return (signal_amplitude - laser_switching_speed * local_t) * np.exp(2j*np.pi * end_freq * t)\n",
    "        else:\n",
    "    #         print(\"off\")\n",
    "            return 0\n",
    "    return harmonic\n",
    "\n",
    "def generate_picture_signal(direction, input_array, output_array, time):\n",
    "    # Формирование движений из списков атомов\n",
    "    frequencies = []\n",
    "    i = 0\n",
    "    j = 0\n",
    "    while i < len(input_array) and j < len(output_array):\n",
    "        if input_array[i] == 1:\n",
    "            if output_array[j] == 1:\n",
    "                start_freq = coord_to_freq(i, direction)\n",
    "                end_freq = coord_to_freq(j, direction)\n",
    "                frequencies.append((start_freq, end_freq))\n",
    "                i = i + 1\n",
    "                j = j + 1\n",
    "            else:\n",
    "                j = j + 1\n",
    "        else:\n",
    "            i = i + 1\n",
    "\n",
    "    signals = []\n",
    "    for start_freq, end_freq in frequencies:\n",
    "        # print(\"start & end freqs\", start_freq, end_freq)\n",
    "        # print(\"transition time\", tansition_time(start_freq, end_freq)*1e6, \"us\")\n",
    "        signals.append(picture_signal(start_freq, end_freq, time))\n",
    "#     return np.vectorize(lambda t: functools.reduce(lambda acc, harmonic: acc + harmonic(t), signals,0) / len(signals))\n",
    "    return np.vectorize(lambda t: functools.reduce(lambda acc, harmonic: acc + harmonic(t), signals,0))\n",
    "\n",
    "def generate_picture_bundle(direction, coord, input_array, output_array, time):\n",
    "    if direction:\n",
    "        x_signal = generate_picture_signal(direction, input_array, output_array, time)\n",
    "        y_signal = generate_static_signal(coord, not direction)\n",
    "    else:\n",
    "        y_signal = generate_picture_signal(direction, input_array, output_array, time)\n",
    "        x_signal = generate_static_signal(coord, not direction)\n",
    "    return (x_signal, y_signal)"
   ]
  },
  {
   "cell_type": "code",
   "execution_count": 6,
   "id": "25e34c36-6696-45ac-9f8d-df765b3ae019",
   "metadata": {},
   "outputs": [
    {
     "data": {
      "text/plain": [
       "4982.857142857143"
      ]
     },
     "execution_count": 6,
     "metadata": {},
     "output_type": "execute_result"
    }
   ],
   "source": [
    "# Тестирование размера буфера\n",
    "transition_time(coord_to_freq(0, True), coord_to_freq(4, True)) * sample_rate"
   ]
  },
  {
   "cell_type": "code",
   "execution_count": 7,
   "id": "853cf65a-fa47-4c3c-8fcb-b7844bad2feb",
   "metadata": {
    "tags": []
   },
   "outputs": [
    {
     "name": "stdout",
     "output_type": "stream",
     "text": [
      "Buffer time: 0.512ms, Transition time: 0.306ms\n"
     ]
    },
    {
     "data": {
      "image/png": "[encoded data removed]",
      "text/plain": [
       "<Figure size 690x426.443 with 1 Axes>"
      ]
     },
     "metadata": {},
     "output_type": "display_data"
    }
   ],
   "source": [
    "start = 4\n",
    "stop = 0\n",
    "direction = False\n",
    "# sample_rate = int(50e6)\n",
    "# buff_size = int(2**14)\n",
    "# lo = int(99e6)\n",
    "sig = np.vectorize(atom_signal(coord_to_freq(start, direction), coord_to_freq(stop, direction)))\n",
    "t = np.linspace(0, buff_size / sample_rate, buff_size)\n",
    "data = sig(t)\n",
    "print(\"Buffer time: {:.3f}ms, Transition time: {:.3f}ms\".format(buff_size / sample_rate * 1e3, transition_time(coord_to_freq(start, direction), coord_to_freq(stop, direction)) * 1e3))\n",
    "\n",
    "spectrum = np.abs(fft.fftshift(fft.fft(data)))\n",
    "frequencies = fft.fftshift(fft.fftfreq(data.shape[0], 1 / sample_rate)) / 1e6\n",
    "\n",
    "plt.figure(figsize=[width,height])\n",
    "plt.plot(frequencies, spectrum)\n",
    "plt.yscale('log')\n",
    "plt.xlabel(\"МГц\")\n",
    "# plt.axvline(101492256e-6)\n",
    "# plt.axvline(97840290e-6)\n",
    "# plt.xlim(-.5,.5)\n",
    "plt.grid()\n",
    "# plt.savefig('../TeX/figures/spectrum/Y_scaled.pdf', bbox_inches='tight')\n",
    "plt.show()"
   ]
  },
  {
   "cell_type": "code",
   "execution_count": 8,
   "id": "9ffe7090-1319-4c11-a8ab-0d14bfb6a220",
   "metadata": {},
   "outputs": [
    {
     "name": "stdout",
     "output_type": "stream",
     "text": [
      "Buffer time: 0.512ms, Transition time: 0.311ms\n"
     ]
    },
    {
     "data": {
      "image/png": "[encoded data removed]",
      "text/plain": [
       "<Figure size 690x426.443 with 1 Axes>"
      ]
     },
     "metadata": {},
     "output_type": "display_data"
    }
   ],
   "source": [
    "start = 0\n",
    "stop = 4\n",
    "direction = True\n",
    "# sample_rate = int(14e6)\n",
    "# buff_size = int(2**13)\n",
    "# lo = int(99e6)\n",
    "\n",
    "sig = np.vectorize(atom_signal(coord_to_freq(start, direction), coord_to_freq(stop, direction)))\n",
    "t = np.linspace(0, buff_size / sample_rate, buff_size)\n",
    "data = sig(t)\n",
    "print(\"Buffer time: {:.3f}ms, Transition time: {:.3f}ms\".format(buff_size / sample_rate * 1e3, transition_time(coord_to_freq(start, direction), coord_to_freq(stop, direction)) * 1e3))\n",
    "\n",
    "spectrum = np.abs(fft.fftshift(fft.fft(data)))\n",
    "frequencies = fft.fftshift(fft.fftfreq(data.shape[0], 1 / sample_rate)) / 1e6\n",
    "\n",
    "plt.figure(figsize=[width,height])\n",
    "plt.plot(frequencies, spectrum)\n",
    "plt.yscale('log')\n",
    "plt.xlabel(\"МГц\")\n",
    "# plt.axvline(101492256e-6)\n",
    "# plt.axvline(97840290e-6)\n",
    "# plt.xlim(-.5,.5)\n",
    "plt.grid()\n",
    "# plt.savefig('../Pres/figures/spectrum/X_scaled.pdf', bbox_inches='tight')\n",
    "plt.show()"
   ]
  },
  {
   "cell_type": "markdown",
   "id": "b62973e5-f057-4aea-a075-683a2f252e8c",
   "metadata": {},
   "source": [
    "# Работа с железом"
   ]
  },
  {
   "cell_type": "code",
   "execution_count": 9,
   "id": "gothic-maryland",
   "metadata": {
    "tags": []
   },
   "outputs": [],
   "source": [
    "sdr = adi.ad9361('ip:172.16.1.246')"
   ]
  },
  {
   "cell_type": "code",
   "execution_count": 10,
   "id": "solid-approach",
   "metadata": {
    "tags": []
   },
   "outputs": [],
   "source": [
    "sdr.tx_destroy_buffer()\n",
    "sdr.rx_lo = lo\n",
    "sdr.tx_lo = lo\n",
    "sdr.sample_rate = sample_rate\n",
    "sdr.rx_rf_bandwidth = int(1.6 * sdr.sample_rate / 2)\n",
    "sdr.tx_rf_bandwidth = int(1.6 * sdr.sample_rate / 2)\n",
    "sdr.gain_control_mode = \"slow_attack\"\n",
    "sdr.tx_hardwaregain = 0\n",
    "sdr.tx_enabled_channels = [0,1]\n",
    "sdr.rx_enabled_channels = [0,1]\n",
    "sdr.tx_buffer_size = buff_size\n",
    "sdr.rx_buffer_size = buff_size\n",
    "# Подключение: TX2 - RX1\n",
    "sdr.tx_destroy_buffer()\n",
    "sdr.rx_destroy_buffer()\n",
    "sdr.tx_cyclic_buffer = True\n",
    "sdr.loopback = 0"
   ]
  },
  {
   "cell_type": "code",
   "execution_count": 19,
   "id": "54471613-fa7a-4fb0-abaf-b79a9161e3ca",
   "metadata": {},
   "outputs": [
    {
     "name": "stdout",
     "output_type": "stream",
     "text": [
      "X:4, f_x=-1.100MHz,Y:4,f_y=1.900MHz\n"
     ]
    }
   ],
   "source": [
    "# # Тестирование задания координат\n",
    "i = 4\n",
    "j = 4\n",
    "amplitude = 2**14\n",
    "N = sdr.tx_buffer_size\n",
    "sample_rate = sdr.sample_rate\n",
    "times = np.linspace(0, N / sample_rate, N)\n",
    "print(\"X:{}, f_x={:.3f}MHz,Y:{},f_y={:.3f}MHz\".format(i,coord_to_freq(i,True)*1e-6,j,coord_to_freq(j,False)*1e-6))\n",
    "x_dots = amplitude * np.exp(2j * np.pi * coord_to_freq(i,True) * times)\n",
    "y_dots = amplitude * np.exp(2j * np.pi * coord_to_freq(j,False) * times)\n",
    "sdr.tx_destroy_buffer()\n",
    "sdr.tx([x_dots, y_dots])"
   ]
  },
  {
   "cell_type": "code",
   "execution_count": 17,
   "id": "db8cf5de-f8b8-4f5e-b9f0-1e77eed98020",
   "metadata": {},
   "outputs": [],
   "source": [
    "x_measured_spectrum, y_measured_spectrum = get_averaged_spectrum(sdr, 10)\n",
    "x_generated_spectrum_ = fft.fftshift(fft.fft(x_dots))\n",
    "y_generated_spectrum_ = fft.fftshift(fft.fft(y_dots))\n",
    "frequencies = fft.fftshift(fft.fftfreq(x_dots.shape[0], 1 / sdr.sample_rate) + sdr.rx_lo) / 1e6\n",
    "x_generated_spectrum = DataFrame(data = x_generated_spectrum_.imag**2 + x_generated_spectrum_.real**2, index = frequencies)\n",
    "y_generated_spectrum = DataFrame(data = y_generated_spectrum_.imag**2 + y_generated_spectrum_.real**2, index = frequencies)\n",
    "# generated_spectrum = generated_spectrum / generated_spectrum.max()\n",
    "x_measured_spectrum_norm = x_measured_spectrum / x_measured_spectrum.mean()\n",
    "y_measured_spectrum_norm = y_measured_spectrum / y_measured_spectrum.mean()\n",
    "x_generated_spectrum_norm = x_generated_spectrum / x_generated_spectrum.mean()\n",
    "y_generated_spectrum_norm = y_generated_spectrum / y_generated_spectrum.mean()"
   ]
  },
  {
   "cell_type": "code",
   "execution_count": 18,
   "id": "6715c6eb-a980-4423-82cc-0ca333d6915d",
   "metadata": {},
   "outputs": [
    {
     "data": {
      "image/png": "[encoded data removed]",
      "text/plain": [
       "<Figure size 690x426.443 with 1 Axes>"
      ]
     },
     "metadata": {},
     "output_type": "display_data"
    }
   ],
   "source": [
    "plt.figure(figsize=[width,height])\n",
    "plt.plot(10*np.log10(x_measured_spectrum_norm), label=\"Измеренный\")\n",
    "plt.plot(10*np.log10(x_generated_spectrum_norm), label=\"Сгенерированный\")\n",
    "# plt.yscale('log')\n",
    "plt.grid()\n",
    "plt.xlabel(\"MHz\")\n",
    "plt.ylabel(\"dB\")\n",
    "plt.legend()\n",
    "# plt.ylabel(\"dB\")\n",
    "# plt.savefig('../TeX/figures/spectrum/X_measured_norm.pdf', bbox_inches='tight')\n",
    "plt.show()"
   ]
  },
  {
   "cell_type": "code",
   "execution_count": 16,
   "id": "12493c07-ffec-4c73-9d9f-6fc3e8a34f9c",
   "metadata": {},
   "outputs": [
    {
     "data": {
      "image/png": "[encoded data removed]",
      "text/plain": [
       "<Figure size 690x426.443 with 1 Axes>"
      ]
     },
     "metadata": {},
     "output_type": "display_data"
    }
   ],
   "source": [
    "plt.figure(figsize=[width,height])\n",
    "plt.plot(10*np.log10(y_measured_spectrum_norm), label=\"Измеренный\")\n",
    "plt.plot(10*np.log10(y_generated_spectrum_norm), label=\"Сгенерированный\")\n",
    "# plt.yscale('log')\n",
    "plt.grid()\n",
    "plt.xlabel(\"MHz\")\n",
    "plt.ylabel(\"dB\")\n",
    "plt.legend()\n",
    "# plt.ylabel(\"dB\")\n",
    "# plt.savefig('../TeX/figures/spectrum/X_measured_norm.pdf', bbox_inches='tight')\n",
    "plt.show()"
   ]
  },
  {
   "cell_type": "code",
   "execution_count": null,
   "id": "2c7f47f6-6c2d-4d4b-aee6-1834ee779556",
   "metadata": {},
   "outputs": [],
   "source": [
    "# print("
   ]
  },
  {
   "cell_type": "code",
   "execution_count": null,
   "id": "6d19f598-6426-4c5d-9360-005e0dd028b1",
   "metadata": {},
   "outputs": [],
   "source": [
    "input_array = np.array([1,1,0,0,0])\n",
    "output_array = np.array([0,0,1,0,1])\n",
    "coord = 2\n",
    "direction = True\n",
    "time = transition_time(coord_to_freq(2, True), coord_to_freq(4, True)) * 0.2\n",
    "x_signal, y_signal = generate_picture_bundle(direction, coord, input_array, output_array, time)"
   ]
  },
  {
   "cell_type": "code",
   "execution_count": null,
   "id": "5d665e95-ab96-46f6-bd23-813e00a3ab9c",
   "metadata": {},
   "outputs": [],
   "source": [
    "N = sdr.tx_buffer_size\n",
    "sample_rate = sdr.sample_rate\n",
    "times = np.linspace(0, N / sample_rate, N)\n",
    "x_dots = x_signal(times)\n",
    "y_dots = y_signal(times)"
   ]
  },
  {
   "cell_type": "code",
   "execution_count": null,
   "id": "87ee77cf-c00d-428a-a0ac-964cc4a23069",
   "metadata": {},
   "outputs": [],
   "source": [
    "sdr.tx_destroy_buffer()\n",
    "sdr.tx([x_dots, y_dots])"
   ]
  },
  {
   "cell_type": "code",
   "execution_count": null,
   "id": "df2a642e-a58b-4550-8474-6bd6b588c2e2",
   "metadata": {},
   "outputs": [],
   "source": [
    "np.abs(x_dots).max()"
   ]
  },
  {
   "cell_type": "markdown",
   "id": "87439572-704f-42a4-8f8a-c612febaf20c",
   "metadata": {},
   "source": [
    "# Тестирование спектров"
   ]
  },
  {
   "cell_type": "code",
   "execution_count": 13,
   "id": "040bd4e7-cc75-436f-a731-b286be4b72e9",
   "metadata": {},
   "outputs": [],
   "source": [
    "def get_averaged_spectrum(sdr, average=10):\n",
    "    x_signal, y_signal = sdr.rx()\n",
    "    x_spectrum = fft.fftshift(fft.fft(x_signal))\n",
    "    y_spectrum = fft.fftshift(fft.fft(y_signal))\n",
    "    for i in range(average-1):\n",
    "        x_signal, y_signal = sdr.rx()\n",
    "        x_spectrum = x_spectrum + fft.fftshift(fft.fft(x_signal))\n",
    "        y_spectrum = y_spectrum + fft.fftshift(fft.fft(y_signal))\n",
    "    x_spectrum = x_spectrum / average\n",
    "    y_spectrum = y_spectrum / average\n",
    "    frequencies = fft.fftshift(fft.fftfreq(x_signal.shape[0], 1 / sdr.sample_rate) + sdr.rx_lo) / 1e6\n",
    "    x_spectrum = DataFrame(data = x_spectrum.imag**2 + x_spectrum.real**2, index = frequencies)\n",
    "    y_spectrum = DataFrame(data = y_spectrum.imag**2 + y_spectrum.real**2, index = frequencies)\n",
    "    return (x_spectrum, y_spectrum)"
   ]
  },
  {
   "cell_type": "code",
   "execution_count": null,
   "id": "3f2d8012-fd6a-48be-836e-e7ea1d3c7567",
   "metadata": {},
   "outputs": [],
   "source": [
    "# X\n",
    "input_array = np.array([1,0,0,0,0])\n",
    "output_array = np.array([0,0,0,0,1])\n",
    "coord = 0\n",
    "direction = True\n",
    "x_signal, y_signal = generate_signal_bundle(direction, coord, input_array, output_array)"
   ]
  },
  {
   "cell_type": "code",
   "execution_count": null,
   "id": "93bdc376-6e61-40de-a1d6-6306369e72f6",
   "metadata": {},
   "outputs": [],
   "source": [
    "N = sdr.tx_buffer_size\n",
    "sample_rate = sdr.sample_rate\n",
    "times = np.linspace(0, N / sample_rate, N)\n",
    "x_dots = x_signal(times)\n",
    "y_dots = y_signal(times)"
   ]
  },
  {
   "cell_type": "code",
   "execution_count": null,
   "id": "50ab068e-1622-479c-bda4-1a976992f00d",
   "metadata": {},
   "outputs": [],
   "source": [
    "sdr.tx_destroy_buffer()\n",
    "sdr.tx([x_dots, y_dots])"
   ]
  },
  {
   "cell_type": "code",
   "execution_count": null,
   "id": "f7e584c2-4b65-4e68-ac5e-17234688e63f",
   "metadata": {},
   "outputs": [],
   "source": [
    "x_measured_spectrum, y_measured_spectrum = get_averaged_spectrum(sdr, 10)"
   ]
  },
  {
   "cell_type": "code",
   "execution_count": null,
   "id": "5bb8ab22-0fe7-4542-8947-eabf5647d4c5",
   "metadata": {},
   "outputs": [],
   "source": [
    "x_generated_spectrum_ = fft.fftshift(fft.fft(x_dots))\n",
    "y_generated_spectrum_ = fft.fftshift(fft.fft(y_dots))\n",
    "frequencies = fft.fftshift(fft.fftfreq(x_dots.shape[0], 1 / sdr.sample_rate) + sdr.rx_lo) / 1e6\n",
    "x_generated_spectrum = DataFrame(data = x_generated_spectrum_.imag**2 + x_generated_spectrum_.real**2, index = frequencies)\n",
    "y_generated_spectrum = DataFrame(data = y_generated_spectrum_.imag**2 + y_generated_spectrum_.real**2, index = frequencies)\n",
    "# generated_spectrum = generated_spectrum / generated_spectrum.max()"
   ]
  },
  {
   "cell_type": "code",
   "execution_count": null,
   "id": "f52c91e2-001d-414c-ab7e-275ff8ad63a7",
   "metadata": {},
   "outputs": [],
   "source": [
    "x_measured_spectrum_norm = x_measured_spectrum / x_measured_spectrum.mean()\n",
    "y_measured_spectrum_norm = y_measured_spectrum / y_measured_spectrum.mean()\n",
    "x_generated_spectrum_norm = x_generated_spectrum / x_generated_spectrum.mean()\n",
    "y_generated_spectrum_norm = y_generated_spectrum / y_generated_spectrum.mean()"
   ]
  },
  {
   "cell_type": "code",
   "execution_count": null,
   "id": "29891c96-6aa6-42c1-ae11-ecb8bbbe4a8b",
   "metadata": {},
   "outputs": [],
   "source": [
    "plt.figure(figsize=[width,height])\n",
    "plt.plot(10*np.log10(x_measured_spectrum_norm), label=\"Измеренный\")\n",
    "plt.plot(10*np.log10(x_generated_spectrum_norm), label=\"Сгенерированный\")\n",
    "# plt.yscale('log')\n",
    "plt.grid()\n",
    "plt.xlabel(\"MHz\")\n",
    "plt.ylabel(\"dB\")\n",
    "plt.legend()\n",
    "# plt.ylabel(\"dB\")\n",
    "# plt.savefig('../TeX/figures/spectrum/X_measured_norm.pdf', bbox_inches='tight')\n",
    "plt.show()"
   ]
  },
  {
   "cell_type": "code",
   "execution_count": null,
   "id": "88a5bb9d-cadb-49f4-ab60-0364d221bac6",
   "metadata": {},
   "outputs": [],
   "source": [
    "plt.figure(figsize=[20,10])\n",
    "plt.plot(10*np.log10(y_measured_spectrum_norm), label=\"Измеренный\")\n",
    "plt.plot(10*np.log10(y_generated_spectrum_norm), label=\"Сгенерированный\")\n",
    "# plt.yscale('log')\n",
    "plt.grid()\n",
    "plt.xlabel(\"MHz\")\n",
    "plt.legend()\n",
    "plt.ylabel(\"dB\")\n",
    "plt.show()"
   ]
  },
  {
   "cell_type": "code",
   "execution_count": null,
   "id": "b63aa5dd-4257-4ec0-aed8-43e7440c8a50",
   "metadata": {},
   "outputs": [],
   "source": [
    "# Y\n",
    "input_array = np.array([1,0,0,0,0])\n",
    "output_array = np.array([0,0,0,0,1])\n",
    "coord = 4\n",
    "direction = False\n",
    "x_signal, y_signal = generate_signal_bundle(direction, coord, input_array, output_array)"
   ]
  },
  {
   "cell_type": "code",
   "execution_count": null,
   "id": "e8ae527f-cf4a-477a-979b-718849a63614",
   "metadata": {},
   "outputs": [],
   "source": [
    "N = sdr.tx_buffer_size\n",
    "sample_rate = sdr.sample_rate\n",
    "times = np.linspace(0, N / sample_rate, N)\n",
    "x_dots = x_signal(times)\n",
    "y_dots = y_signal(times)"
   ]
  },
  {
   "cell_type": "code",
   "execution_count": null,
   "id": "40bea360-4cf6-4e69-b54c-3ccdc4857e67",
   "metadata": {},
   "outputs": [],
   "source": [
    "sdr.tx_destroy_buffer()\n",
    "sdr.tx([x_dots, y_dots])"
   ]
  },
  {
   "cell_type": "code",
   "execution_count": null,
   "id": "ed1e5401-8bba-4e34-9f51-9860ebcdd5bd",
   "metadata": {},
   "outputs": [],
   "source": [
    "x_measured_spectrum, y_measured_spectrum = get_averaged_spectrum(sdr, 10)"
   ]
  },
  {
   "cell_type": "code",
   "execution_count": null,
   "id": "4e6957a8-c45b-4082-9e4e-0a7e36bc95ca",
   "metadata": {},
   "outputs": [],
   "source": [
    "x_generated_spectrum_ = fft.fftshift(fft.fft(x_dots))\n",
    "y_generated_spectrum_ = fft.fftshift(fft.fft(y_dots))\n",
    "frequencies = fft.fftshift(fft.fftfreq(x_dots.shape[0], 1 / sdr.sample_rate) + sdr.rx_lo) / 1e6\n",
    "x_generated_spectrum = DataFrame(data = x_generated_spectrum_.imag**2 + x_generated_spectrum_.real**2, index = frequencies)\n",
    "y_generated_spectrum = DataFrame(data = y_generated_spectrum_.imag**2 + y_generated_spectrum_.real**2, index = frequencies)\n",
    "# generated_spectrum = generated_spectrum / generated_spectrum.max()"
   ]
  },
  {
   "cell_type": "code",
   "execution_count": null,
   "id": "ebfede4d-306a-470a-9870-6103d71d3e7d",
   "metadata": {},
   "outputs": [],
   "source": [
    "x_measured_spectrum_norm = x_measured_spectrum / x_measured_spectrum.mean()\n",
    "y_measured_spectrum_norm = y_measured_spectrum / y_measured_spectrum.mean()\n",
    "x_generated_spectrum_norm = x_generated_spectrum / x_generated_spectrum.mean()\n",
    "y_generated_spectrum_norm = y_generated_spectrum / y_generated_spectrum.mean()"
   ]
  },
  {
   "cell_type": "code",
   "execution_count": null,
   "id": "d0ba94b2-f75b-4589-8698-87666a9479b2",
   "metadata": {},
   "outputs": [],
   "source": [
    "plt.figure(figsize=[width,height])\n",
    "plt.plot(10*np.log10(y_measured_spectrum_norm), label=\"Измеренный\")\n",
    "plt.plot(10*np.log10(y_generated_spectrum_norm), label=\"Сгенерированный\")\n",
    "# plt.yscale('log')\n",
    "plt.grid()\n",
    "plt.xlabel(\"MHz\")\n",
    "plt.ylabel(\"dB\")\n",
    "plt.legend()\n",
    "# plt.ylabel(\"dB\")\n",
    "# plt.savefig('../TeX/figures/spectrum/Y_measured_norm.pdf', bbox_inches='tight')\n",
    "plt.show()"
   ]
  },
  {
   "cell_type": "code",
   "execution_count": null,
   "id": "b47f77f8-12c8-41d3-96f8-ce3742789e9e",
   "metadata": {},
   "outputs": [],
   "source": [
    "plt.figure(figsize=[20,10])\n",
    "plt.plot(10*np.log10(x_measured_spectrum_norm), label=\"Измеренный\")\n",
    "plt.plot(10*np.log10(x_generated_spectrum_norm), label=\"Сгенерированный\")\n",
    "# plt.yscale('log')\n",
    "plt.grid()\n",
    "plt.xlabel(\"MHz\")\n",
    "plt.legend()\n",
    "plt.ylabel(\"dB\")\n",
    "plt.show()"
   ]
  },
  {
   "cell_type": "code",
   "execution_count": null,
   "id": "260cc27b-4f25-4a69-b55b-5ff166088d40",
   "metadata": {},
   "outputs": [],
   "source": [
    "input_array = np.array([0,0,0,1,0])\n",
    "output_array = np.array([0,1,0,0,0])\n",
    "coord = 2\n",
    "direction = True\n",
    "x_signal, y_signal = generate_signal_bundle(direction, coord, input_array, output_array)"
   ]
  },
  {
   "cell_type": "code",
   "execution_count": null,
   "id": "7ee985f0-fb8b-4ea2-b5f8-6a0505ee448a",
   "metadata": {},
   "outputs": [],
   "source": [
    "N = sdr.tx_buffer_size\n",
    "sample_rate = sdr.sample_rate\n",
    "times = np.linspace(0, N / sample_rate, N)\n",
    "x_dots = x_signal(times)\n",
    "y_dots = y_signal(times)"
   ]
  },
  {
   "cell_type": "code",
   "execution_count": null,
   "id": "01f8ba94-112f-482f-9191-e379722642a8",
   "metadata": {},
   "outputs": [],
   "source": [
    "sdr.tx_destroy_buffer()\n",
    "sdr.tx([x_dots, y_dots])"
   ]
  },
  {
   "cell_type": "code",
   "execution_count": null,
   "id": "124bd2e9-0fd4-41a7-999e-3c428ac6ad3d",
   "metadata": {},
   "outputs": [],
   "source": [
    "x_measured_spectrum, y_measured_spectrum = get_averaged_spectrum(sdr, 100)"
   ]
  },
  {
   "cell_type": "code",
   "execution_count": null,
   "id": "aecad778-b004-454e-9024-ef331ed2bd5e",
   "metadata": {},
   "outputs": [],
   "source": [
    "x_generated_spectrum = fft.fftshift(fft.fft(x_dots))\n",
    "y_generated_spectrum = fft.fftshift(fft.fft(y_dots))\n",
    "frequencies = fft.fftshift(fft.fftfreq(x_dots.shape[0], 1 / sdr.sample_rate) + sdr.rx_lo) / 1e6\n",
    "x_generated_spectrum = DataFrame(data = x_generated_spectrum.imag**2 + x_generated_spectrum.real**2, index = frequencies)\n",
    "y_generated_spectrum = DataFrame(data = y_generated_spectrum.imag**2 + y_generated_spectrum.real**2, index = frequencies)\n",
    "# generated_spectrum = generated_spectrum / generated_spectrum.max()"
   ]
  },
  {
   "cell_type": "code",
   "execution_count": null,
   "id": "3435633c-60e9-4646-8a84-e07994a64796",
   "metadata": {
    "tags": []
   },
   "outputs": [],
   "source": [
    "plt.figure(figsize=[20,10])\n",
    "plt.plot(x_measured_spectrum, label=\"Измеренный\")\n",
    "plt.plot(x_generated_spectrum, label=\"Сгенерированный\")\n",
    "plt.yscale('log')\n",
    "plt.grid()\n",
    "plt.xlabel(\"MHz\")\n",
    "plt.legend()\n",
    "# plt.ylabel(\"dB\")\n",
    "plt.show()"
   ]
  },
  {
   "cell_type": "code",
   "execution_count": null,
   "id": "c26df9f5-e956-42f4-8cb1-4e3d2083e8f1",
   "metadata": {
    "tags": []
   },
   "outputs": [],
   "source": [
    "plt.figure(figsize=[20,10])\n",
    "plt.plot(y_measured_spectrum)\n",
    "plt.plot(y_generated_spectrum)\n",
    "plt.yscale('log')\n",
    "plt.grid()\n",
    "plt.xlabel(\"MHz\")\n",
    "# plt.ylabel(\"dB\")\n",
    "plt.show()"
   ]
  },
  {
   "cell_type": "code",
   "execution_count": null,
   "id": "37d96df7-6c71-4971-b969-7d0b006be1ca",
   "metadata": {
    "lines_to_next_cell": 2
   },
   "outputs": [],
   "source": [
    "print(\"Values:\")\n",
    "blacklist = [\"gain_table_config\", \"multichip_sync\"]\n",
    "channel_blacklist = [\"fastlock_recall\",\"samples_pps\"]\n",
    "for dev in sdr.ctx.devices:\n",
    "    print(dev.name, \"{\")\n",
    "    if dev.name == \"ams\" or dev.name == \"ad7291\" or dev.name == None:\n",
    "        continue\n",
    "    for attr in dev.attrs:\n",
    "        attr = dev.attrs[attr]\n",
    "        print(\"\\t\",attr.name,end=\" \")\n",
    "        if attr.name in blacklist:\n",
    "            print()\n",
    "        else:\n",
    "            print(attr.value)\n",
    "    print(\"Channel attrs:\")\n",
    "    for channel in dev.channels:\n",
    "        print(\"\\t\",channel.name, \"{\")\n",
    "        for attr in channel.attrs:\n",
    "            attr = channel.attrs[attr]\n",
    "            print(\"\\t\\t\",attr.name,end=\" \")\n",
    "            if attr.name in channel_blacklist:\n",
    "                print()\n",
    "            else:\n",
    "                print(attr.value)\n",
    "        print(\"\\t}\")\n",
    "    print(\"}\")"
   ]
  },
  {
   "cell_type": "code",
   "execution_count": null,
   "id": "7a1ba5d6-a752-469f-8a78-1911934cc1a6",
   "metadata": {},
   "outputs": [],
   "source": [
    "# X\n",
    "input_array = np.array([1,1,0,0,0])\n",
    "output_array = np.array([0,0,1,0,1])\n",
    "coord = 2\n",
    "direction = True\n",
    "time = transition_time(coord_to_freq(start, direction), coord_to_freq(stop, direction))*0.45\n",
    "x_signal, y_signal = generate_picture_bundle(direction, coord, input_array, output_array, time)\n",
    "\n",
    "N = sdr.tx_buffer_size\n",
    "sample_rate = sdr.sample_rate\n",
    "times = np.linspace(0, N / sample_rate, N)\n",
    "x_dots = x_signal(times)\n",
    "y_dots = y_signal(times)\n",
    "\n",
    "sdr.tx_destroy_buffer()\n",
    "sdr.tx([x_dots, y_dots])"
   ]
  },
  {
   "cell_type": "markdown",
   "id": "7d9dbe43-14d4-44ec-9540-a14a241dffb4",
   "metadata": {},
   "source": [
    "# Выключение"
   ]
  },
  {
   "cell_type": "code",
   "execution_count": 20,
   "id": "0e3f1f3e-d8c3-433f-a885-4eaf75017719",
   "metadata": {},
   "outputs": [],
   "source": [
    "sdr.tx_destroy_buffer()"
   ]
  },
  {
   "cell_type": "code",
   "execution_count": 21,
   "id": "c298c36a-8d74-469f-b0bc-e9f1279fdb6a",
   "metadata": {},
   "outputs": [],
   "source": [
    "del sdr"
   ]
  },
  {
   "cell_type": "code",
   "execution_count": null,
   "id": "ef23c280-6ed4-4384-b00f-c0fc1eaea269",
   "metadata": {},
   "outputs": [],
   "source": []
  }
 ],
 "metadata": {
  "jupytext": {
   "encoding": "# -*- coding: utf-8 -*-",
   "formats": "ipynb,py:percent"
  },
  "kernelspec": {
   "display_name": "Python 3",
   "language": "python",
   "name": "python3"
  },
  "language_info": {
   "codemirror_mode": {
    "name": "ipython",
    "version": 3
   },
   "file_extension": ".py",
   "mimetype": "text/x-python",
   "name": "python",
   "nbconvert_exporter": "python",
   "pygments_lexer": "ipython3",
   "version": "3.10.10"
  },
  "vscode": {
   "interpreter": {
    "hash": "767d51c1340bd893661ea55ea3124f6de3c7a262a8b4abca0554b478b1e2ff90"
   }
  }
 },
 "nbformat": 4,
 "nbformat_minor": 5
}
